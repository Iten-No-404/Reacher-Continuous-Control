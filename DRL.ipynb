{
 "cells": [
  {
   "cell_type": "code",
   "execution_count": 1,
   "metadata": {},
   "outputs": [],
   "source": [
    "import torch\n",
    "import numpy as np\n",
    "from collections import deque\n",
    "import matplotlib.pyplot as plt\n",
    "%matplotlib inline\n",
    "\n",
    "from IPython import display\n",
    "from unityagents import UnityEnvironment\n",
    "\n",
    "from utils import create_next_id_folder\n",
    "from ddpg_agent import Agent"
   ]
  },
  {
   "cell_type": "code",
   "execution_count": 2,
   "metadata": {},
   "outputs": [
    {
     "name": "stderr",
     "output_type": "stream",
     "text": [
      "INFO:unityagents:\n",
      "'Academy' started successfully!\n",
      "Unity Academy name: Academy\n",
      "        Number of Brains: 1\n",
      "        Number of External Brains : 1\n",
      "        Lesson number : 0\n",
      "        Reset Parameters :\n",
      "\t\tgoal_speed -> 1.0\n",
      "\t\tgoal_size -> 5.0\n",
      "Unity brain name: ReacherBrain\n",
      "        Number of Visual Observations (per agent): 0\n",
      "        Vector Observation space type: continuous\n",
      "        Vector Observation space size (per agent): 33\n",
      "        Number of stacked Vector Observation: 1\n",
      "        Vector Action space type: continuous\n",
      "        Vector Action space size (per agent): 4\n",
      "        Vector Action descriptions: , , , \n"
     ]
    }
   ],
   "source": [
    "# Create simulation environment\n",
    "env = UnityEnvironment(file_name='Reacher_Windows_x86_64_20/Reacher.exe')\n",
    "brain_name = env.brain_names[0]\n",
    "brain = env.brains[brain_name]"
   ]
  },
  {
   "cell_type": "code",
   "execution_count": 3,
   "metadata": {},
   "outputs": [
    {
     "name": "stdout",
     "output_type": "stream",
     "text": [
      "Number of agents: 20\n",
      "Size of each action: 4\n",
      "There are 20 agents. Each observes a state with length: 33\n",
      "The state for the first agent looks like: [ 0.00000000e+00 -4.00000000e+00  0.00000000e+00  1.00000000e+00\n",
      " -0.00000000e+00 -0.00000000e+00 -4.37113883e-08  0.00000000e+00\n",
      "  0.00000000e+00  0.00000000e+00  0.00000000e+00  0.00000000e+00\n",
      "  0.00000000e+00  0.00000000e+00 -1.00000000e+01  0.00000000e+00\n",
      "  1.00000000e+00 -0.00000000e+00 -0.00000000e+00 -4.37113883e-08\n",
      "  0.00000000e+00  0.00000000e+00  0.00000000e+00  0.00000000e+00\n",
      "  0.00000000e+00  0.00000000e+00  5.75471878e+00 -1.00000000e+00\n",
      "  5.55726624e+00  0.00000000e+00  1.00000000e+00  0.00000000e+00\n",
      " -1.68164849e-01]\n"
     ]
    }
   ],
   "source": [
    "# reset the environment\n",
    "env_info = env.reset(train_mode=True)[brain_name]\n",
    "\n",
    "# number of agents\n",
    "num_agents = len(env_info.agents)\n",
    "print('Number of agents:', num_agents)\n",
    "\n",
    "# size of each action\n",
    "action_size = brain.vector_action_space_size\n",
    "print('Size of each action:', action_size)\n",
    "\n",
    "# examine the state space \n",
    "states = env_info.vector_observations\n",
    "state_size = states.shape[1]\n",
    "print('There are {} agents. Each observes a state with length: {}'.format(states.shape[0], state_size))\n",
    "print('The state for the first agent looks like:', states[0])"
   ]
  },
  {
   "cell_type": "code",
   "execution_count": 4,
   "metadata": {},
   "outputs": [
    {
     "data": {
      "text/plain": [
       "(20, 33)"
      ]
     },
     "execution_count": 4,
     "metadata": {},
     "output_type": "execute_result"
    }
   ],
   "source": [
    "states.shape"
   ]
  },
  {
   "cell_type": "code",
   "execution_count": 5,
   "metadata": {},
   "outputs": [
    {
     "data": {
      "text/plain": [
       "20"
      ]
     },
     "execution_count": 5,
     "metadata": {},
     "output_type": "execute_result"
    }
   ],
   "source": [
    "len(env_info.rewards)"
   ]
  },
  {
   "cell_type": "code",
   "execution_count": 6,
   "metadata": {},
   "outputs": [
    {
     "name": "stdout",
     "output_type": "stream",
     "text": [
      "Total score (averaged over agents) this episode: 0.07399999834597111\n"
     ]
    }
   ],
   "source": [
    "# Initialize Feed-forward DNNs for Actor and Critic models. \n",
    "agent = Agent(state_size=state_size, action_size=action_size, random_seed=0, num_agents=num_agents)\n",
    "\n",
    "env_info = env.reset(train_mode=False)[brain_name]     # reset the environment    \n",
    "states = env_info.vector_observations                  # get the current state (for each agent)\n",
    "scores = np.zeros(num_agents)                          # initialize the score (for each agent)\n",
    "steps = 0\n",
    "while True:\n",
    "    steps += 1 \n",
    "    actions = np.random.randn(num_agents, action_size) # select an action (for each agent)\n",
    "    actions = np.clip(actions, -1, 1)                  # all actions between -1 and 1\n",
    "    env_info = env.step(actions)[brain_name]           # send all actions to tne environment\n",
    "    next_states = env_info.vector_observations         # get next state (for each agent)\n",
    "    rewards = env_info.rewards                         # get reward (for each agent)\n",
    "    dones = env_info.local_done                        # see if episode finished\n",
    "    scores += env_info.rewards                         # update the score (for each agent)\n",
    "    states = next_states                               # roll over states to next time step\n",
    "    if np.any(dones):                                  # exit loop if episode finished\n",
    "        break\n",
    "print('Total score (averaged over agents) this episode: {}'.format(np.mean(scores)))"
   ]
  },
  {
   "cell_type": "code",
   "execution_count": 7,
   "metadata": {},
   "outputs": [
    {
     "data": {
      "text/plain": [
       "array([0.        , 0.        , 0.41999999, 0.27999999, 0.        ,\n",
       "       0.        , 0.        , 0.        , 0.37999999, 0.        ,\n",
       "       0.21      , 0.        , 0.        , 0.        , 0.        ,\n",
       "       0.19      , 0.        , 0.        , 0.        , 0.        ])"
      ]
     },
     "execution_count": 7,
     "metadata": {},
     "output_type": "execute_result"
    }
   ],
   "source": [
    "scores"
   ]
  },
  {
   "cell_type": "code",
   "execution_count": 8,
   "metadata": {},
   "outputs": [
    {
     "data": {
      "text/plain": [
       "array([0.        , 0.        , 0.00041958, 0.00027972, 0.        ,\n",
       "       0.        , 0.        , 0.        , 0.00037962, 0.        ,\n",
       "       0.00020979, 0.        , 0.        , 0.        , 0.        ,\n",
       "       0.00018981, 0.        , 0.        , 0.        , 0.        ])"
      ]
     },
     "execution_count": 8,
     "metadata": {},
     "output_type": "execute_result"
    }
   ],
   "source": [
    "scores / steps"
   ]
  },
  {
   "cell_type": "code",
   "execution_count": 9,
   "metadata": {},
   "outputs": [],
   "source": [
    "def ddpg(env, \n",
    "        state_size, \n",
    "        action_size, \n",
    "        random_seed,\n",
    "        num_agents,\n",
    "        n_episodes=2000, \n",
    "        max_t=1000, \n",
    "        eps_start=1.0, \n",
    "        eps_end=0.01, \n",
    "        eps_decay=0.995, \n",
    "        actor_model_save_path='actor.pth',\n",
    "        critic_model_save_path='critic.pth',\n",
    "        BUFFER_SIZE = int(1e4),  # replay buffer size\n",
    "        BATCH_SIZE = 128,        # minibatch size\n",
    "        GAMMA = 0.99,            # discount factor\n",
    "        TAU = 1e-3,              # for soft update of target parameters\n",
    "        LR_ACTOR = 1e-4,         # learning rate of the actor \n",
    "        LR_CRITIC = 1e-3,        # learning rate of the critic\n",
    "        WEIGHT_DECAY = 0         # L2 weight decay\n",
    "        ):\n",
    "    \"\"\"Deep Q-Learning.\n",
    "    \n",
    "    Params\n",
    "    ======\n",
    "        n_episodes (int): maximum number of training episodes\n",
    "        max_t (int): maximum number of timesteps per episode\n",
    "        eps_start (float): starting value of epsilon, for epsilon-greedy action selection\n",
    "        eps_end (float): minimum value of epsilon\n",
    "        eps_decay (float): multiplicative factor (per episode) for decreasing epsilon\n",
    "    \"\"\"\n",
    "    scores_agents = []                        # list containing scores from each episode\n",
    "    scores_window = deque(maxlen=100)  # last 100 scores\n",
    "    eps = eps_start                    # initialize epsilon\n",
    "    agent = Agent(state_size=state_size, action_size=action_size, random_seed=random_seed,\n",
    "                    num_agents=num_agents,\n",
    "                    BUFFER_SIZE=BUFFER_SIZE,                  \n",
    "                    BATCH_SIZE=BATCH_SIZE,\n",
    "                    GAMMA=GAMMA,\n",
    "                    TAU=TAU,\n",
    "                    LR_ACTOR=LR_ACTOR,\n",
    "                    LR_CRITIC=LR_CRITIC,\n",
    "                    WEIGHT_DECAY=WEIGHT_DECAY,                  \n",
    "                  )\n",
    "\n",
    "    for i_episode in range(1, n_episodes+1):\n",
    "\n",
    "        env_info = env.reset(train_mode=True)[brain_name]\n",
    "        states = env_info.vector_observations                  # get the current state\n",
    "        scores = np.zeros(num_agents)\n",
    "        for t in range(max_t):\n",
    "            actions = agent.act(states)                        # select an action (for each agent)\n",
    "            actions = np.clip(actions, -1, 1)                  # all actions between -1 and 1\n",
    "            env_info = env.step(actions)[brain_name]           # send all actions to tne environment\n",
    "            next_states = env_info.vector_observations         # get next state (for each agent)\n",
    "            rewards = env_info.rewards                         # get reward (for each agent)\n",
    "            dones = env_info.local_done                        # see if episode finished\n",
    "            agent.step(states, actions, rewards, next_states, dones)\n",
    "            scores += env_info.rewards\n",
    "            states = next_states                               # roll over states to next time step\n",
    "            if np.any(dones):                                  # exit loop if episode finished\n",
    "                break\n",
    "        scores_window.append(scores)                      # save most recent score\n",
    "        scores_agents.append(scores)                      # save most recent score\n",
    "\n",
    "        eps = max(eps_end, eps_decay*eps) # decrease epsilon\n",
    "        print('\\rEpisode {}\\tAverage Score: {:.2f}'.format(i_episode, np.mean(scores_window)), end=\"\")\n",
    "        if i_episode % 100 == 0:\n",
    "            print('\\rEpisode {}\\tAverage Score: {:.2f}'.format(i_episode, np.mean(scores_window)))\n",
    "\n",
    "    torch.save(agent.actor_local.state_dict(), actor_model_save_path)\n",
    "    torch.save(agent.critic_local.state_dict(), critic_model_save_path)\n",
    "    return scores_agents"
   ]
  },
  {
   "cell_type": "code",
   "execution_count": null,
   "metadata": {},
   "outputs": [
    {
     "name": "stdout",
     "output_type": "stream",
     "text": [
      "Successfully created directory: 'ddpg_trials\\3'\n",
      "Episode 5\tAverage Score: 0.02"
     ]
    }
   ],
   "source": [
    "import os\n",
    "import json\n",
    "random_seed = 0\n",
    "\n",
    "base_path = 'ddpg_trials'\n",
    "combinations = [{\n",
    "        \"n_episodes\": 2000,\n",
    "        \"max_t\": 1000,\n",
    "        \"eps_start\": 1.0,\n",
    "        \"eps_end\": 0.01,\n",
    "        \"eps_decay\": 0.995,\n",
    "        \"BUFFER_SIZE\": int(1e4),\n",
    "        \"BATCH_SIZE\": 128,\n",
    "        \"GAMMA\": 0.99,\n",
    "        \"TAU\": 1e-3,\n",
    "        \"LR_ACTOR\": 1e-4,\n",
    "        \"LR_CRITIC\": 1e-3,\n",
    "        \"WEIGHT_DECAY\": 0,\n",
    "    },\n",
    " ]\n",
    "\n",
    "for properties in combinations:\n",
    "    new_path = create_next_id_folder(base_path)\n",
    "    scores = ddpg(env, \n",
    "        state_size, \n",
    "        action_size, \n",
    "        random_seed,\n",
    "        num_agents=num_agents,\n",
    "        n_episodes=properties[\"n_episodes\"],\n",
    "        max_t=properties[\"max_t\"],\n",
    "        eps_start=properties[\"eps_start\"],\n",
    "        eps_end=properties[\"eps_end\"],\n",
    "        eps_decay=properties[\"eps_decay\"],\n",
    "        actor_model_save_path=os.path.join(new_path, 'actor.pth'),\n",
    "        critic_model_save_path=os.path.join(new_path, 'critic.pth'),\n",
    "        BUFFER_SIZE=properties[\"BUFFER_SIZE\"],\n",
    "        BATCH_SIZE=properties[\"BATCH_SIZE\"],\n",
    "        GAMMA=properties[\"GAMMA\"],\n",
    "        TAU=properties[\"TAU\"],\n",
    "        LR_ACTOR=properties[\"LR_ACTOR\"],\n",
    "        LR_CRITIC=properties[\"LR_CRITIC\"],\n",
    "        WEIGHT_DECAY=properties[\"WEIGHT_DECAY\"],\n",
    "        )\n",
    "    \n",
    "    with open(os.path.join(new_path, 'parameters.json'), 'w') as json_file:\n",
    "        json.dump(properties, json_file,  indent=4)\n",
    "\n",
    "    list_of_python_lists = []\n",
    "    for arr in scores:\n",
    "        list_of_python_lists.append(arr.tolist())\n",
    "\n",
    "    with open(os.path.join(new_path, 'scores.json'), 'w') as f:\n",
    "        json.dump(list_of_python_lists, f, indent=4) # indent makes it human-readable\n",
    "\n",
    "    for i, score in enumerate(list_of_python_lists): \n",
    "        # plot the scores\n",
    "        fig = plt.figure()\n",
    "        ax = fig.add_subplot(111)\n",
    "        plt.plot(np.arange(len(score)), score)\n",
    "        plt.ylabel('Score')\n",
    "        plt.xlabel('Episode #')\n",
    "        plt.title(f\"Agent {i+1}'s Scores\")\n",
    "        plt.show()"
   ]
  },
  {
   "cell_type": "code",
   "execution_count": null,
   "metadata": {},
   "outputs": [],
   "source": []
  }
 ],
 "metadata": {
  "kernelspec": {
   "display_name": "drlnd",
   "language": "python",
   "name": "python3"
  },
  "language_info": {
   "codemirror_mode": {
    "name": "ipython",
    "version": 3
   },
   "file_extension": ".py",
   "mimetype": "text/x-python",
   "name": "python",
   "nbconvert_exporter": "python",
   "pygments_lexer": "ipython3",
   "version": "3.6.13"
  }
 },
 "nbformat": 4,
 "nbformat_minor": 2
}
